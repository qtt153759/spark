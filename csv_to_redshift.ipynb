{
 "cells": [
  {
   "cell_type": "code",
   "execution_count": 50,
   "id": "eb967255",
   "metadata": {},
   "outputs": [],
   "source": [
    "from pyspark.sql import SparkSession\n",
    "from pyspark.sql.types import StructType, StructField, StringType, DateType, DecimalType, IntegerType,TimestampType\n",
    "# Build SparkSession\n",
    "import getpass\n",
    "spark = SparkSession.builder.master(\"local[*]\").appName(\"ETL Pipeline\")\\\n",
    "        .config(\"spark.jars\", \"../jars/redshift-jdbc42-2.1.0.9.jar\").getOrCreate()\n",
    "\n",
    "# Set Logging Level to WARN\n",
    "spark.sparkContext.setLogLevel(\"WARN\")"
   ]
  },
  {
   "cell_type": "code",
   "execution_count": 51,
   "id": "f62f5f03",
   "metadata": {},
   "outputs": [],
   "source": [
    "source_data_directory = \"./financial_data/\"\n",
    "economic_indicators=[\"economic_indicatorCPI\",\n",
    "                     \"economic_indicatorCONSUMER_SENTIMENT\",\n",
    "                     \"economic_indicatorDURABLES\",\n",
    "                     \"economic_indicatorINFLATION_EXPECTATION\",\n",
    "                     \"economic_indicatorNONFARM_PAYROLL\",\n",
    "                     \"economic_indicatorRETAIL_SALES\",\n",
    "                     \"economic_indicatorTREASURY_YIELD\",\n",
    "                     \"economic_indicatorUNEMPLOYMENT\"]\n",
    "# Define csv input schema\n",
    "schema = StructType([\n",
    "    StructField(\"timestamp\", DateType()),\n",
    "    StructField(\"value\", DecimalType(precision=38, scale=2)),\n",
    "])\n"
   ]
  },
  {
   "cell_type": "code",
   "execution_count": 52,
   "id": "22698c4c",
   "metadata": {},
   "outputs": [],
   "source": [
    "dictionary_df={}\n",
    "for i in economic_indicators:\n",
    "    dictionary_df[i] = spark.read.option(\"header\", \"true\").csv(source_data_directory+i+\".csv\", schema=schema)"
   ]
  },
  {
   "cell_type": "code",
   "execution_count": 53,
   "id": "3850332d",
   "metadata": {},
   "outputs": [],
   "source": [
    "for i in economic_indicators:\n",
    "    dictionary_df[i].createOrReplaceTempView(i)\n",
    "    "
   ]
  },
  {
   "cell_type": "code",
   "execution_count": 54,
   "id": "152a89d9",
   "metadata": {},
   "outputs": [],
   "source": [
    "dataDF=spark.sql(\"select economic_indicatorCPI.timestamp as date, economic_indicatorCPI.value as CPI_value, economic_indicatorCONSUMER_SENTIMENT.value as CONSUMER_SENTIMENT_value,\"+\n",
    "                 \"economic_indicatorDURABLES.value as DURABLES_value,economic_indicatorINFLATION_EXPECTATION.value as INFLATION_EXPECTATION_value,\"+\n",
    "                 \"economic_indicatorNONFARM_PAYROLL.value as NONFARM_PAYROLL_value,economic_indicatorRETAIL_SALES.value as RETAIL_SALES_value,\"+\n",
    "                 \"economic_indicatorTREASURY_YIELD.value as TREASURY_YIELD_value,economic_indicatorUNEMPLOYMENT.value as UNEMPLOYMENT_value \"\n",
    "          \"from economic_indicatorCPI LEFT OUTER JOIN economic_indicatorCONSUMER_SENTIMENT ON economic_indicatorCPI.timestamp == economic_indicatorCONSUMER_SENTIMENT.timestamp \"\n",
    "          \"LEFT OUTER JOIN economic_indicatorDURABLES ON economic_indicatorCPI.timestamp == economic_indicatorDURABLES.timestamp \"+\n",
    "          \"LEFT OUTER JOIN economic_indicatorINFLATION_EXPECTATION ON economic_indicatorCPI.timestamp == economic_indicatorINFLATION_EXPECTATION.timestamp \"+\n",
    "          \"LEFT OUTER JOIN economic_indicatorTREASURY_YIELD ON economic_indicatorCPI.timestamp == economic_indicatorTREASURY_YIELD.timestamp \"+\n",
    "          \"LEFT OUTER JOIN economic_indicatorNONFARM_PAYROLL ON economic_indicatorCPI.timestamp == economic_indicatorNONFARM_PAYROLL.timestamp \"+\n",
    "          \"LEFT OUTER JOIN economic_indicatorRETAIL_SALES ON economic_indicatorCPI.timestamp == economic_indicatorRETAIL_SALES.timestamp \"+\n",
    "          \"LEFT OUTER JOIN economic_indicatorUNEMPLOYMENT ON economic_indicatorCPI.timestamp == economic_indicatorUNEMPLOYMENT.timestamp \")"
   ]
  },
  {
   "cell_type": "code",
   "execution_count": 55,
   "id": "2dc30df3",
   "metadata": {},
   "outputs": [
    {
     "data": {
      "text/plain": [
       "1318"
      ]
     },
     "execution_count": 55,
     "metadata": {},
     "output_type": "execute_result"
    }
   ],
   "source": [
    "dataDF.count()"
   ]
  },
  {
   "cell_type": "code",
   "execution_count": 56,
   "id": "5bb73117",
   "metadata": {},
   "outputs": [
    {
     "name": "stdout",
     "output_type": "stream",
     "text": [
      "+----------+---------+------------------------+--------------+---------------------------+---------------------+------------------+--------------------+------------------+\n",
      "|      date|CPI_value|CONSUMER_SENTIMENT_value|DURABLES_value|INFLATION_EXPECTATION_value|NONFARM_PAYROLL_value|RETAIL_SALES_value|TREASURY_YIELD_value|UNEMPLOYMENT_value|\n",
      "+----------+---------+------------------------+--------------+---------------------------+---------------------+------------------+--------------------+------------------+\n",
      "|2022-10-01|   298.01|                    null|          null|                       null|            154369.00|         597492.00|                3.98|              3.70|\n",
      "|2022-09-01|   296.81|                   58.60|     290199.00|                       4.70|            153197.00|         576853.00|                3.52|              3.50|\n",
      "|2022-08-01|   296.17|                   58.20|     279323.00|                       4.80|            152674.00|         613416.00|                2.90|              3.70|\n",
      "|2022-07-01|   296.28|                   51.50|     249456.00|                       5.20|            152258.00|         600746.00|                2.90|              3.50|\n",
      "|2022-06-01|   296.31|                   50.00|     294470.00|                       5.30|            152607.00|         609933.00|                3.14|              3.60|\n",
      "|2022-05-01|   292.30|                   58.40|     263971.00|                       5.30|            151728.00|         614474.00|                2.90|              3.60|\n",
      "|2022-04-01|   289.11|                   65.20|     260366.00|                       5.40|            150957.00|         594426.00|                2.75|              3.60|\n",
      "|2022-03-01|   287.50|                   59.40|     294088.00|                       5.40|            149905.00|         597077.00|                2.13|              3.60|\n",
      "|2022-02-01|   283.72|                   62.80|     250105.00|                       4.90|            149143.00|         506400.00|                1.93|              3.80|\n",
      "|2022-01-01|   281.15|                   67.20|     242492.00|                       4.90|            147505.00|         518146.00|                1.76|              4.00|\n",
      "|2021-12-01|   278.80|                   70.60|     267477.00|                       4.80|            150352.00|         632849.00|                1.47|              3.90|\n",
      "|2021-11-01|   277.95|                   67.40|     244327.00|                       4.90|            150210.00|         579687.00|                1.56|              4.20|\n",
      "|2021-10-01|   276.59|                   71.70|     247086.00|                       4.80|            149310.00|         557737.00|                1.58|              4.60|\n",
      "|2021-09-01|   274.31|                   72.80|     260121.00|                       4.60|            147651.00|         532840.00|                1.37|              4.70|\n",
      "|2021-08-01|   273.57|                   70.30|     250971.00|                       4.60|            146947.00|         553822.00|                1.28|              5.20|\n",
      "|2021-07-01|   273.00|                   81.20|     228559.00|                       4.70|            146452.00|         554845.00|                1.32|              5.40|\n",
      "|2021-06-01|   271.70|                   85.50|     263226.00|                       4.20|            146493.00|         560679.00|                1.52|              5.90|\n",
      "|2021-05-01|   269.20|                   82.90|     235324.00|                       4.60|            145304.00|         567461.00|                1.62|              5.80|\n",
      "|2021-04-01|   267.05|                   88.30|     236534.00|                       3.40|            144358.00|         557874.00|                1.64|              6.00|\n",
      "|2021-03-01|   264.88|                   84.90|     267961.00|                       3.10|            143308.00|         565764.00|                1.61|              6.00|\n",
      "+----------+---------+------------------------+--------------+---------------------------+---------------------+------------------+--------------------+------------------+\n",
      "only showing top 20 rows\n",
      "\n"
     ]
    }
   ],
   "source": [
    "dataDF.show()"
   ]
  },
  {
   "cell_type": "code",
   "execution_count": 57,
   "id": "caed69b5",
   "metadata": {},
   "outputs": [],
   "source": [
    "from pyspark.sql.functions import udf\n",
    "def extract_month(date):\n",
    "    if date is not None:\n",
    "        return int(date.month)\n",
    "\n",
    "\n",
    "def extract_year(date):\n",
    "    if date is not None:\n",
    "        return int(date.year)\n",
    "\n",
    "\n",
    "def extract_day(date):\n",
    "    if date is not None:\n",
    "        return int(date.day)\n",
    "udf_month = udf(extract_month, IntegerType())\n",
    "udf_year = udf(extract_year, IntegerType())\n",
    "udf_day = udf(extract_day, IntegerType())"
   ]
  },
  {
   "cell_type": "code",
   "execution_count": 58,
   "id": "78da90dd",
   "metadata": {},
   "outputs": [
    {
     "name": "stdout",
     "output_type": "stream",
     "text": [
      "+----------+---------+------------------------+--------------+---------------------------+---------------------+------------------+--------------------+------------------+-----+----+---+\n",
      "|      date|CPI_value|CONSUMER_SENTIMENT_value|DURABLES_value|INFLATION_EXPECTATION_value|NONFARM_PAYROLL_value|RETAIL_SALES_value|TREASURY_YIELD_value|UNEMPLOYMENT_value|month|year|day|\n",
      "+----------+---------+------------------------+--------------+---------------------------+---------------------+------------------+--------------------+------------------+-----+----+---+\n",
      "|2022-10-01|   298.01|                    null|          null|                       null|            154369.00|         597492.00|                3.98|              3.70|   10|2022|  1|\n",
      "|2022-09-01|   296.81|                   58.60|     290199.00|                       4.70|            153197.00|         576853.00|                3.52|              3.50|    9|2022|  1|\n",
      "|2022-08-01|   296.17|                   58.20|     279323.00|                       4.80|            152674.00|         613416.00|                2.90|              3.70|    8|2022|  1|\n",
      "|2022-07-01|   296.28|                   51.50|     249456.00|                       5.20|            152258.00|         600746.00|                2.90|              3.50|    7|2022|  1|\n",
      "|2022-06-01|   296.31|                   50.00|     294470.00|                       5.30|            152607.00|         609933.00|                3.14|              3.60|    6|2022|  1|\n",
      "|2022-05-01|   292.30|                   58.40|     263971.00|                       5.30|            151728.00|         614474.00|                2.90|              3.60|    5|2022|  1|\n",
      "|2022-04-01|   289.11|                   65.20|     260366.00|                       5.40|            150957.00|         594426.00|                2.75|              3.60|    4|2022|  1|\n",
      "|2022-03-01|   287.50|                   59.40|     294088.00|                       5.40|            149905.00|         597077.00|                2.13|              3.60|    3|2022|  1|\n",
      "|2022-02-01|   283.72|                   62.80|     250105.00|                       4.90|            149143.00|         506400.00|                1.93|              3.80|    2|2022|  1|\n",
      "|2022-01-01|   281.15|                   67.20|     242492.00|                       4.90|            147505.00|         518146.00|                1.76|              4.00|    1|2022|  1|\n",
      "|2021-12-01|   278.80|                   70.60|     267477.00|                       4.80|            150352.00|         632849.00|                1.47|              3.90|   12|2021|  1|\n",
      "|2021-11-01|   277.95|                   67.40|     244327.00|                       4.90|            150210.00|         579687.00|                1.56|              4.20|   11|2021|  1|\n",
      "|2021-10-01|   276.59|                   71.70|     247086.00|                       4.80|            149310.00|         557737.00|                1.58|              4.60|   10|2021|  1|\n",
      "|2021-09-01|   274.31|                   72.80|     260121.00|                       4.60|            147651.00|         532840.00|                1.37|              4.70|    9|2021|  1|\n",
      "|2021-08-01|   273.57|                   70.30|     250971.00|                       4.60|            146947.00|         553822.00|                1.28|              5.20|    8|2021|  1|\n",
      "|2021-07-01|   273.00|                   81.20|     228559.00|                       4.70|            146452.00|         554845.00|                1.32|              5.40|    7|2021|  1|\n",
      "|2021-06-01|   271.70|                   85.50|     263226.00|                       4.20|            146493.00|         560679.00|                1.52|              5.90|    6|2021|  1|\n",
      "|2021-05-01|   269.20|                   82.90|     235324.00|                       4.60|            145304.00|         567461.00|                1.62|              5.80|    5|2021|  1|\n",
      "|2021-04-01|   267.05|                   88.30|     236534.00|                       3.40|            144358.00|         557874.00|                1.64|              6.00|    4|2021|  1|\n",
      "|2021-03-01|   264.88|                   84.90|     267961.00|                       3.10|            143308.00|         565764.00|                1.61|              6.00|    3|2021|  1|\n",
      "+----------+---------+------------------------+--------------+---------------------------+---------------------+------------------+--------------------+------------------+-----+----+---+\n",
      "only showing top 20 rows\n",
      "\n"
     ]
    }
   ],
   "source": [
    "day_month_year_DF = dataDF \\\n",
    "    .withColumn(\"month\", udf_month(\"date\")) \\\n",
    "    .withColumn(\"year\", udf_year(\"date\")) \\\n",
    "    .withColumn(\"day\", udf_day(\"date\"))\n",
    "day_month_year_DF.show()"
   ]
  },
  {
   "cell_type": "code",
   "execution_count": 59,
   "id": "ece2711b",
   "metadata": {},
   "outputs": [],
   "source": [
    "finalDF=day_month_year_DF.drop(\"date\")\n"
   ]
  },
  {
   "cell_type": "code",
   "execution_count": 60,
   "id": "5297dd70",
   "metadata": {},
   "outputs": [
    {
     "name": "stdout",
     "output_type": "stream",
     "text": [
      "root\n",
      " |-- CPI_value: decimal(38,2) (nullable = true)\n",
      " |-- CONSUMER_SENTIMENT_value: decimal(38,2) (nullable = true)\n",
      " |-- DURABLES_value: decimal(38,2) (nullable = true)\n",
      " |-- INFLATION_EXPECTATION_value: decimal(38,2) (nullable = true)\n",
      " |-- NONFARM_PAYROLL_value: decimal(38,2) (nullable = true)\n",
      " |-- RETAIL_SALES_value: decimal(38,2) (nullable = true)\n",
      " |-- TREASURY_YIELD_value: decimal(38,2) (nullable = true)\n",
      " |-- UNEMPLOYMENT_value: decimal(38,2) (nullable = true)\n",
      " |-- month: integer (nullable = true)\n",
      " |-- year: integer (nullable = true)\n",
      " |-- day: integer (nullable = true)\n",
      "\n"
     ]
    }
   ],
   "source": [
    "finalDF.printSchema()\n"
   ]
  },
  {
   "cell_type": "code",
   "execution_count": 61,
   "id": "320ba4c6",
   "metadata": {},
   "outputs": [
    {
     "name": "stdout",
     "output_type": "stream",
     "text": [
      "········\n"
     ]
    }
   ],
   "source": [
    "driver = \"com.amazon.redshift.jdbc42.Driver\"\n",
    "url='jdbc:redshift://redshift-cluster-1.cfaj06ovlgm3.us-east-1.redshift.amazonaws.com:5439/dev'\t  \n",
    "dbtable='public.financial'\n",
    "user='awsuser'\n",
    "password=getpass.getpass()"
   ]
  },
  {
   "cell_type": "code",
   "execution_count": 64,
   "id": "5a3ba47d",
   "metadata": {},
   "outputs": [
    {
     "ename": "Py4JJavaError",
     "evalue": "An error occurred while calling o731.save.\n: java.sql.SQLException: The connection attempt failed.\n\tat com.amazon.redshift.util.RedshiftException.getSQLException(RedshiftException.java:56)\n\tat com.amazon.redshift.Driver.connect(Driver.java:339)\n\tat org.apache.spark.sql.execution.datasources.jdbc.connection.BasicConnectionProvider.getConnection(BasicConnectionProvider.scala:49)\n\tat org.apache.spark.sql.execution.datasources.jdbc.connection.ConnectionProviderBase.create(ConnectionProvider.scala:102)\n\tat org.apache.spark.sql.jdbc.JdbcDialect.$anonfun$createConnectionFactory$1(JdbcDialects.scala:122)\n\tat org.apache.spark.sql.jdbc.JdbcDialect.$anonfun$createConnectionFactory$1$adapted(JdbcDialects.scala:118)\n\tat org.apache.spark.sql.execution.datasources.jdbc.JdbcRelationProvider.createRelation(JdbcRelationProvider.scala:50)\n\tat org.apache.spark.sql.execution.datasources.SaveIntoDataSourceCommand.run(SaveIntoDataSourceCommand.scala:47)\n\tat org.apache.spark.sql.execution.command.ExecutedCommandExec.sideEffectResult$lzycompute(commands.scala:75)\n\tat org.apache.spark.sql.execution.command.ExecutedCommandExec.sideEffectResult(commands.scala:73)\n\tat org.apache.spark.sql.execution.command.ExecutedCommandExec.executeCollect(commands.scala:84)\n\tat org.apache.spark.sql.execution.QueryExecution$$anonfun$eagerlyExecuteCommands$1.$anonfun$applyOrElse$1(QueryExecution.scala:98)\n\tat org.apache.spark.sql.execution.SQLExecution$.$anonfun$withNewExecutionId$6(SQLExecution.scala:109)\n\tat org.apache.spark.sql.execution.SQLExecution$.withSQLConfPropagated(SQLExecution.scala:169)\n\tat org.apache.spark.sql.execution.SQLExecution$.$anonfun$withNewExecutionId$1(SQLExecution.scala:95)\n\tat org.apache.spark.sql.SparkSession.withActive(SparkSession.scala:779)\n\tat org.apache.spark.sql.execution.SQLExecution$.withNewExecutionId(SQLExecution.scala:64)\n\tat org.apache.spark.sql.execution.QueryExecution$$anonfun$eagerlyExecuteCommands$1.applyOrElse(QueryExecution.scala:98)\n\tat org.apache.spark.sql.execution.QueryExecution$$anonfun$eagerlyExecuteCommands$1.applyOrElse(QueryExecution.scala:94)\n\tat org.apache.spark.sql.catalyst.trees.TreeNode.$anonfun$transformDownWithPruning$1(TreeNode.scala:584)\n\tat org.apache.spark.sql.catalyst.trees.CurrentOrigin$.withOrigin(TreeNode.scala:176)\n\tat org.apache.spark.sql.catalyst.trees.TreeNode.transformDownWithPruning(TreeNode.scala:584)\n\tat org.apache.spark.sql.catalyst.plans.logical.LogicalPlan.org$apache$spark$sql$catalyst$plans$logical$AnalysisHelper$$super$transformDownWithPruning(LogicalPlan.scala:30)\n\tat org.apache.spark.sql.catalyst.plans.logical.AnalysisHelper.transformDownWithPruning(AnalysisHelper.scala:267)\n\tat org.apache.spark.sql.catalyst.plans.logical.AnalysisHelper.transformDownWithPruning$(AnalysisHelper.scala:263)\n\tat org.apache.spark.sql.catalyst.plans.logical.LogicalPlan.transformDownWithPruning(LogicalPlan.scala:30)\n\tat org.apache.spark.sql.catalyst.plans.logical.LogicalPlan.transformDownWithPruning(LogicalPlan.scala:30)\n\tat org.apache.spark.sql.catalyst.trees.TreeNode.transformDown(TreeNode.scala:560)\n\tat org.apache.spark.sql.execution.QueryExecution.eagerlyExecuteCommands(QueryExecution.scala:94)\n\tat org.apache.spark.sql.execution.QueryExecution.commandExecuted$lzycompute(QueryExecution.scala:81)\n\tat org.apache.spark.sql.execution.QueryExecution.commandExecuted(QueryExecution.scala:79)\n\tat org.apache.spark.sql.execution.QueryExecution.assertCommandExecuted(QueryExecution.scala:116)\n\tat org.apache.spark.sql.DataFrameWriter.runCommand(DataFrameWriter.scala:860)\n\tat org.apache.spark.sql.DataFrameWriter.saveToV1Source(DataFrameWriter.scala:390)\n\tat org.apache.spark.sql.DataFrameWriter.saveInternal(DataFrameWriter.scala:363)\n\tat org.apache.spark.sql.DataFrameWriter.save(DataFrameWriter.scala:247)\n\tat java.base/jdk.internal.reflect.NativeMethodAccessorImpl.invoke0(Native Method)\n\tat java.base/jdk.internal.reflect.NativeMethodAccessorImpl.invoke(NativeMethodAccessorImpl.java:77)\n\tat java.base/jdk.internal.reflect.DelegatingMethodAccessorImpl.invoke(DelegatingMethodAccessorImpl.java:43)\n\tat java.base/java.lang.reflect.Method.invoke(Method.java:568)\n\tat py4j.reflection.MethodInvoker.invoke(MethodInvoker.java:244)\n\tat py4j.reflection.ReflectionEngine.invoke(ReflectionEngine.java:357)\n\tat py4j.Gateway.invoke(Gateway.java:282)\n\tat py4j.commands.AbstractCommand.invokeMethod(AbstractCommand.java:132)\n\tat py4j.commands.CallCommand.execute(CallCommand.java:79)\n\tat py4j.ClientServerConnection.waitForCommands(ClientServerConnection.java:182)\n\tat py4j.ClientServerConnection.run(ClientServerConnection.java:106)\n\tat java.base/java.lang.Thread.run(Thread.java:833)\nCaused by: java.net.SocketTimeoutException: Connect timed out\n\tat java.base/sun.nio.ch.NioSocketImpl.timedFinishConnect(NioSocketImpl.java:546)\n\tat java.base/sun.nio.ch.NioSocketImpl.connect(NioSocketImpl.java:597)\n\tat java.base/java.net.SocksSocketImpl.connect(SocksSocketImpl.java:327)\n\tat java.base/java.net.Socket.connect(Socket.java:633)\n\tat com.amazon.redshift.core.RedshiftStream.<init>(RedshiftStream.java:86)\n\tat com.amazon.redshift.core.v3.ConnectionFactoryImpl.tryConnect(ConnectionFactoryImpl.java:111)\n\tat com.amazon.redshift.core.v3.ConnectionFactoryImpl.openConnectionImpl(ConnectionFactoryImpl.java:224)\n\tat com.amazon.redshift.core.ConnectionFactory.openConnection(ConnectionFactory.java:51)\n\tat com.amazon.redshift.jdbc.RedshiftConnectionImpl.<init>(RedshiftConnectionImpl.java:322)\n\tat com.amazon.redshift.Driver.makeConnection(Driver.java:502)\n\tat com.amazon.redshift.Driver.connect(Driver.java:315)\n\t... 46 more\n",
     "output_type": "error",
     "traceback": [
      "\u001b[0;31m---------------------------------------------------------------------------\u001b[0m",
      "\u001b[0;31mPy4JJavaError\u001b[0m                             Traceback (most recent call last)",
      "Cell \u001b[0;32mIn [64], line 1\u001b[0m\n\u001b[0;32m----> 1\u001b[0m \u001b[43mfinalDF\u001b[49m\u001b[38;5;241;43m.\u001b[39;49m\u001b[43mwrite\u001b[49m\u001b[38;5;241;43m.\u001b[39;49m\u001b[43mformat\u001b[49m\u001b[43m(\u001b[49m\u001b[38;5;124;43m'\u001b[39;49m\u001b[38;5;124;43mjdbc\u001b[39;49m\u001b[38;5;124;43m'\u001b[39;49m\u001b[43m)\u001b[49m\u001b[38;5;241;43m.\u001b[39;49m\u001b[43moptions\u001b[49m\u001b[43m(\u001b[49m\n\u001b[1;32m      2\u001b[0m \u001b[43m      \u001b[49m\u001b[43murl\u001b[49m\u001b[38;5;241;43m=\u001b[39;49m\u001b[43murl\u001b[49m\u001b[43m,\u001b[49m\u001b[43m\t  \u001b[49m\n\u001b[1;32m      3\u001b[0m \u001b[43m      \u001b[49m\u001b[43mdriver\u001b[49m\u001b[38;5;241;43m=\u001b[39;49m\u001b[43mdriver\u001b[49m\u001b[43m,\u001b[49m\n\u001b[1;32m      4\u001b[0m \u001b[43m      \u001b[49m\u001b[43mdbtable\u001b[49m\u001b[38;5;241;43m=\u001b[39;49m\u001b[43mdbtable\u001b[49m\u001b[43m,\u001b[49m\n\u001b[1;32m      5\u001b[0m \u001b[43m      \u001b[49m\u001b[43muser\u001b[49m\u001b[38;5;241;43m=\u001b[39;49m\u001b[43muser\u001b[49m\u001b[43m,\u001b[49m\n\u001b[1;32m      6\u001b[0m \u001b[43m      \u001b[49m\u001b[43mpassword\u001b[49m\u001b[38;5;241;43m=\u001b[39;49m\u001b[43mpassword\u001b[49m\u001b[43m)\u001b[49m\u001b[38;5;241;43m.\u001b[39;49m\u001b[43mmode\u001b[49m\u001b[43m(\u001b[49m\u001b[38;5;124;43m'\u001b[39;49m\u001b[38;5;124;43mappend\u001b[39;49m\u001b[38;5;124;43m'\u001b[39;49m\u001b[43m)\u001b[49m\u001b[38;5;241;43m.\u001b[39;49m\u001b[43msave\u001b[49m\u001b[43m(\u001b[49m\u001b[43m)\u001b[49m \n",
      "File \u001b[0;32m~/.local/lib/python3.8/site-packages/pyspark/sql/readwriter.py:966\u001b[0m, in \u001b[0;36mDataFrameWriter.save\u001b[0;34m(self, path, format, mode, partitionBy, **options)\u001b[0m\n\u001b[1;32m    964\u001b[0m     \u001b[38;5;28mself\u001b[39m\u001b[38;5;241m.\u001b[39mformat(\u001b[38;5;28mformat\u001b[39m)\n\u001b[1;32m    965\u001b[0m \u001b[38;5;28;01mif\u001b[39;00m path \u001b[38;5;129;01mis\u001b[39;00m \u001b[38;5;28;01mNone\u001b[39;00m:\n\u001b[0;32m--> 966\u001b[0m     \u001b[38;5;28;43mself\u001b[39;49m\u001b[38;5;241;43m.\u001b[39;49m\u001b[43m_jwrite\u001b[49m\u001b[38;5;241;43m.\u001b[39;49m\u001b[43msave\u001b[49m\u001b[43m(\u001b[49m\u001b[43m)\u001b[49m\n\u001b[1;32m    967\u001b[0m \u001b[38;5;28;01melse\u001b[39;00m:\n\u001b[1;32m    968\u001b[0m     \u001b[38;5;28mself\u001b[39m\u001b[38;5;241m.\u001b[39m_jwrite\u001b[38;5;241m.\u001b[39msave(path)\n",
      "File \u001b[0;32m~/.local/lib/python3.8/site-packages/py4j/java_gateway.py:1321\u001b[0m, in \u001b[0;36mJavaMember.__call__\u001b[0;34m(self, *args)\u001b[0m\n\u001b[1;32m   1315\u001b[0m command \u001b[38;5;241m=\u001b[39m proto\u001b[38;5;241m.\u001b[39mCALL_COMMAND_NAME \u001b[38;5;241m+\u001b[39m\\\n\u001b[1;32m   1316\u001b[0m     \u001b[38;5;28mself\u001b[39m\u001b[38;5;241m.\u001b[39mcommand_header \u001b[38;5;241m+\u001b[39m\\\n\u001b[1;32m   1317\u001b[0m     args_command \u001b[38;5;241m+\u001b[39m\\\n\u001b[1;32m   1318\u001b[0m     proto\u001b[38;5;241m.\u001b[39mEND_COMMAND_PART\n\u001b[1;32m   1320\u001b[0m answer \u001b[38;5;241m=\u001b[39m \u001b[38;5;28mself\u001b[39m\u001b[38;5;241m.\u001b[39mgateway_client\u001b[38;5;241m.\u001b[39msend_command(command)\n\u001b[0;32m-> 1321\u001b[0m return_value \u001b[38;5;241m=\u001b[39m \u001b[43mget_return_value\u001b[49m\u001b[43m(\u001b[49m\n\u001b[1;32m   1322\u001b[0m \u001b[43m    \u001b[49m\u001b[43manswer\u001b[49m\u001b[43m,\u001b[49m\u001b[43m \u001b[49m\u001b[38;5;28;43mself\u001b[39;49m\u001b[38;5;241;43m.\u001b[39;49m\u001b[43mgateway_client\u001b[49m\u001b[43m,\u001b[49m\u001b[43m \u001b[49m\u001b[38;5;28;43mself\u001b[39;49m\u001b[38;5;241;43m.\u001b[39;49m\u001b[43mtarget_id\u001b[49m\u001b[43m,\u001b[49m\u001b[43m \u001b[49m\u001b[38;5;28;43mself\u001b[39;49m\u001b[38;5;241;43m.\u001b[39;49m\u001b[43mname\u001b[49m\u001b[43m)\u001b[49m\n\u001b[1;32m   1324\u001b[0m \u001b[38;5;28;01mfor\u001b[39;00m temp_arg \u001b[38;5;129;01min\u001b[39;00m temp_args:\n\u001b[1;32m   1325\u001b[0m     temp_arg\u001b[38;5;241m.\u001b[39m_detach()\n",
      "File \u001b[0;32m~/.local/lib/python3.8/site-packages/pyspark/sql/utils.py:190\u001b[0m, in \u001b[0;36mcapture_sql_exception.<locals>.deco\u001b[0;34m(*a, **kw)\u001b[0m\n\u001b[1;32m    188\u001b[0m \u001b[38;5;28;01mdef\u001b[39;00m \u001b[38;5;21mdeco\u001b[39m(\u001b[38;5;241m*\u001b[39ma: Any, \u001b[38;5;241m*\u001b[39m\u001b[38;5;241m*\u001b[39mkw: Any) \u001b[38;5;241m-\u001b[39m\u001b[38;5;241m>\u001b[39m Any:\n\u001b[1;32m    189\u001b[0m     \u001b[38;5;28;01mtry\u001b[39;00m:\n\u001b[0;32m--> 190\u001b[0m         \u001b[38;5;28;01mreturn\u001b[39;00m \u001b[43mf\u001b[49m\u001b[43m(\u001b[49m\u001b[38;5;241;43m*\u001b[39;49m\u001b[43ma\u001b[49m\u001b[43m,\u001b[49m\u001b[43m \u001b[49m\u001b[38;5;241;43m*\u001b[39;49m\u001b[38;5;241;43m*\u001b[39;49m\u001b[43mkw\u001b[49m\u001b[43m)\u001b[49m\n\u001b[1;32m    191\u001b[0m     \u001b[38;5;28;01mexcept\u001b[39;00m Py4JJavaError \u001b[38;5;28;01mas\u001b[39;00m e:\n\u001b[1;32m    192\u001b[0m         converted \u001b[38;5;241m=\u001b[39m convert_exception(e\u001b[38;5;241m.\u001b[39mjava_exception)\n",
      "File \u001b[0;32m~/.local/lib/python3.8/site-packages/py4j/protocol.py:326\u001b[0m, in \u001b[0;36mget_return_value\u001b[0;34m(answer, gateway_client, target_id, name)\u001b[0m\n\u001b[1;32m    324\u001b[0m value \u001b[38;5;241m=\u001b[39m OUTPUT_CONVERTER[\u001b[38;5;28mtype\u001b[39m](answer[\u001b[38;5;241m2\u001b[39m:], gateway_client)\n\u001b[1;32m    325\u001b[0m \u001b[38;5;28;01mif\u001b[39;00m answer[\u001b[38;5;241m1\u001b[39m] \u001b[38;5;241m==\u001b[39m REFERENCE_TYPE:\n\u001b[0;32m--> 326\u001b[0m     \u001b[38;5;28;01mraise\u001b[39;00m Py4JJavaError(\n\u001b[1;32m    327\u001b[0m         \u001b[38;5;124m\"\u001b[39m\u001b[38;5;124mAn error occurred while calling \u001b[39m\u001b[38;5;132;01m{0}\u001b[39;00m\u001b[38;5;132;01m{1}\u001b[39;00m\u001b[38;5;132;01m{2}\u001b[39;00m\u001b[38;5;124m.\u001b[39m\u001b[38;5;130;01m\\n\u001b[39;00m\u001b[38;5;124m\"\u001b[39m\u001b[38;5;241m.\u001b[39m\n\u001b[1;32m    328\u001b[0m         \u001b[38;5;28mformat\u001b[39m(target_id, \u001b[38;5;124m\"\u001b[39m\u001b[38;5;124m.\u001b[39m\u001b[38;5;124m\"\u001b[39m, name), value)\n\u001b[1;32m    329\u001b[0m \u001b[38;5;28;01melse\u001b[39;00m:\n\u001b[1;32m    330\u001b[0m     \u001b[38;5;28;01mraise\u001b[39;00m Py4JError(\n\u001b[1;32m    331\u001b[0m         \u001b[38;5;124m\"\u001b[39m\u001b[38;5;124mAn error occurred while calling \u001b[39m\u001b[38;5;132;01m{0}\u001b[39;00m\u001b[38;5;132;01m{1}\u001b[39;00m\u001b[38;5;132;01m{2}\u001b[39;00m\u001b[38;5;124m. Trace:\u001b[39m\u001b[38;5;130;01m\\n\u001b[39;00m\u001b[38;5;132;01m{3}\u001b[39;00m\u001b[38;5;130;01m\\n\u001b[39;00m\u001b[38;5;124m\"\u001b[39m\u001b[38;5;241m.\u001b[39m\n\u001b[1;32m    332\u001b[0m         \u001b[38;5;28mformat\u001b[39m(target_id, \u001b[38;5;124m\"\u001b[39m\u001b[38;5;124m.\u001b[39m\u001b[38;5;124m\"\u001b[39m, name, value))\n",
      "\u001b[0;31mPy4JJavaError\u001b[0m: An error occurred while calling o731.save.\n: java.sql.SQLException: The connection attempt failed.\n\tat com.amazon.redshift.util.RedshiftException.getSQLException(RedshiftException.java:56)\n\tat com.amazon.redshift.Driver.connect(Driver.java:339)\n\tat org.apache.spark.sql.execution.datasources.jdbc.connection.BasicConnectionProvider.getConnection(BasicConnectionProvider.scala:49)\n\tat org.apache.spark.sql.execution.datasources.jdbc.connection.ConnectionProviderBase.create(ConnectionProvider.scala:102)\n\tat org.apache.spark.sql.jdbc.JdbcDialect.$anonfun$createConnectionFactory$1(JdbcDialects.scala:122)\n\tat org.apache.spark.sql.jdbc.JdbcDialect.$anonfun$createConnectionFactory$1$adapted(JdbcDialects.scala:118)\n\tat org.apache.spark.sql.execution.datasources.jdbc.JdbcRelationProvider.createRelation(JdbcRelationProvider.scala:50)\n\tat org.apache.spark.sql.execution.datasources.SaveIntoDataSourceCommand.run(SaveIntoDataSourceCommand.scala:47)\n\tat org.apache.spark.sql.execution.command.ExecutedCommandExec.sideEffectResult$lzycompute(commands.scala:75)\n\tat org.apache.spark.sql.execution.command.ExecutedCommandExec.sideEffectResult(commands.scala:73)\n\tat org.apache.spark.sql.execution.command.ExecutedCommandExec.executeCollect(commands.scala:84)\n\tat org.apache.spark.sql.execution.QueryExecution$$anonfun$eagerlyExecuteCommands$1.$anonfun$applyOrElse$1(QueryExecution.scala:98)\n\tat org.apache.spark.sql.execution.SQLExecution$.$anonfun$withNewExecutionId$6(SQLExecution.scala:109)\n\tat org.apache.spark.sql.execution.SQLExecution$.withSQLConfPropagated(SQLExecution.scala:169)\n\tat org.apache.spark.sql.execution.SQLExecution$.$anonfun$withNewExecutionId$1(SQLExecution.scala:95)\n\tat org.apache.spark.sql.SparkSession.withActive(SparkSession.scala:779)\n\tat org.apache.spark.sql.execution.SQLExecution$.withNewExecutionId(SQLExecution.scala:64)\n\tat org.apache.spark.sql.execution.QueryExecution$$anonfun$eagerlyExecuteCommands$1.applyOrElse(QueryExecution.scala:98)\n\tat org.apache.spark.sql.execution.QueryExecution$$anonfun$eagerlyExecuteCommands$1.applyOrElse(QueryExecution.scala:94)\n\tat org.apache.spark.sql.catalyst.trees.TreeNode.$anonfun$transformDownWithPruning$1(TreeNode.scala:584)\n\tat org.apache.spark.sql.catalyst.trees.CurrentOrigin$.withOrigin(TreeNode.scala:176)\n\tat org.apache.spark.sql.catalyst.trees.TreeNode.transformDownWithPruning(TreeNode.scala:584)\n\tat org.apache.spark.sql.catalyst.plans.logical.LogicalPlan.org$apache$spark$sql$catalyst$plans$logical$AnalysisHelper$$super$transformDownWithPruning(LogicalPlan.scala:30)\n\tat org.apache.spark.sql.catalyst.plans.logical.AnalysisHelper.transformDownWithPruning(AnalysisHelper.scala:267)\n\tat org.apache.spark.sql.catalyst.plans.logical.AnalysisHelper.transformDownWithPruning$(AnalysisHelper.scala:263)\n\tat org.apache.spark.sql.catalyst.plans.logical.LogicalPlan.transformDownWithPruning(LogicalPlan.scala:30)\n\tat org.apache.spark.sql.catalyst.plans.logical.LogicalPlan.transformDownWithPruning(LogicalPlan.scala:30)\n\tat org.apache.spark.sql.catalyst.trees.TreeNode.transformDown(TreeNode.scala:560)\n\tat org.apache.spark.sql.execution.QueryExecution.eagerlyExecuteCommands(QueryExecution.scala:94)\n\tat org.apache.spark.sql.execution.QueryExecution.commandExecuted$lzycompute(QueryExecution.scala:81)\n\tat org.apache.spark.sql.execution.QueryExecution.commandExecuted(QueryExecution.scala:79)\n\tat org.apache.spark.sql.execution.QueryExecution.assertCommandExecuted(QueryExecution.scala:116)\n\tat org.apache.spark.sql.DataFrameWriter.runCommand(DataFrameWriter.scala:860)\n\tat org.apache.spark.sql.DataFrameWriter.saveToV1Source(DataFrameWriter.scala:390)\n\tat org.apache.spark.sql.DataFrameWriter.saveInternal(DataFrameWriter.scala:363)\n\tat org.apache.spark.sql.DataFrameWriter.save(DataFrameWriter.scala:247)\n\tat java.base/jdk.internal.reflect.NativeMethodAccessorImpl.invoke0(Native Method)\n\tat java.base/jdk.internal.reflect.NativeMethodAccessorImpl.invoke(NativeMethodAccessorImpl.java:77)\n\tat java.base/jdk.internal.reflect.DelegatingMethodAccessorImpl.invoke(DelegatingMethodAccessorImpl.java:43)\n\tat java.base/java.lang.reflect.Method.invoke(Method.java:568)\n\tat py4j.reflection.MethodInvoker.invoke(MethodInvoker.java:244)\n\tat py4j.reflection.ReflectionEngine.invoke(ReflectionEngine.java:357)\n\tat py4j.Gateway.invoke(Gateway.java:282)\n\tat py4j.commands.AbstractCommand.invokeMethod(AbstractCommand.java:132)\n\tat py4j.commands.CallCommand.execute(CallCommand.java:79)\n\tat py4j.ClientServerConnection.waitForCommands(ClientServerConnection.java:182)\n\tat py4j.ClientServerConnection.run(ClientServerConnection.java:106)\n\tat java.base/java.lang.Thread.run(Thread.java:833)\nCaused by: java.net.SocketTimeoutException: Connect timed out\n\tat java.base/sun.nio.ch.NioSocketImpl.timedFinishConnect(NioSocketImpl.java:546)\n\tat java.base/sun.nio.ch.NioSocketImpl.connect(NioSocketImpl.java:597)\n\tat java.base/java.net.SocksSocketImpl.connect(SocksSocketImpl.java:327)\n\tat java.base/java.net.Socket.connect(Socket.java:633)\n\tat com.amazon.redshift.core.RedshiftStream.<init>(RedshiftStream.java:86)\n\tat com.amazon.redshift.core.v3.ConnectionFactoryImpl.tryConnect(ConnectionFactoryImpl.java:111)\n\tat com.amazon.redshift.core.v3.ConnectionFactoryImpl.openConnectionImpl(ConnectionFactoryImpl.java:224)\n\tat com.amazon.redshift.core.ConnectionFactory.openConnection(ConnectionFactory.java:51)\n\tat com.amazon.redshift.jdbc.RedshiftConnectionImpl.<init>(RedshiftConnectionImpl.java:322)\n\tat com.amazon.redshift.Driver.makeConnection(Driver.java:502)\n\tat com.amazon.redshift.Driver.connect(Driver.java:315)\n\t... 46 more\n"
     ]
    }
   ],
   "source": [
    "finalDF.write.format('jdbc').options(\n",
    "      url=url,\t  \n",
    "      driver=driver,\n",
    "      dbtable=dbtable,\n",
    "      user=user,\n",
    "      password=password).mode('append').save() "
   ]
  },
  {
   "cell_type": "code",
   "execution_count": null,
   "id": "8b8094cc",
   "metadata": {},
   "outputs": [],
   "source": []
  },
  {
   "cell_type": "code",
   "execution_count": null,
   "id": "248ace02",
   "metadata": {},
   "outputs": [],
   "source": []
  },
  {
   "cell_type": "code",
   "execution_count": null,
   "id": "fe5f334b",
   "metadata": {},
   "outputs": [],
   "source": []
  },
  {
   "cell_type": "code",
   "execution_count": null,
   "id": "3dadcdb5",
   "metadata": {},
   "outputs": [],
   "source": []
  },
  {
   "cell_type": "code",
   "execution_count": null,
   "id": "913b1d42",
   "metadata": {},
   "outputs": [],
   "source": []
  },
  {
   "cell_type": "code",
   "execution_count": null,
   "id": "437003db",
   "metadata": {},
   "outputs": [],
   "source": []
  }
 ],
 "metadata": {
  "kernelspec": {
   "display_name": "Python 3 (ipykernel)",
   "language": "python",
   "name": "python3"
  },
  "language_info": {
   "codemirror_mode": {
    "name": "ipython",
    "version": 3
   },
   "file_extension": ".py",
   "mimetype": "text/x-python",
   "name": "python",
   "nbconvert_exporter": "python",
   "pygments_lexer": "ipython3",
   "version": "3.8.10"
  }
 },
 "nbformat": 4,
 "nbformat_minor": 5
}
