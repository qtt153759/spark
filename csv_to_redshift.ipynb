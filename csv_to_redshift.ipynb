{
 "cells": [
  {
   "cell_type": "code",
   "execution_count": 1,
   "id": "eb967255",
   "metadata": {},
   "outputs": [
    {
     "name": "stdout",
     "output_type": "stream",
     "text": [
      "23/01/24 16:35:13 WARN Utils: Your hostname, qtt-HP-EliteBook-840-G6 resolves to a loopback address: 127.0.1.1; using 192.168.1.35 instead (on interface wlp58s0)\n",
      "23/01/24 16:35:13 WARN Utils: Set SPARK_LOCAL_IP if you need to bind to another address\n",
      "23/01/24 16:35:13 WARN NativeCodeLoader: Unable to load native-hadoop library for your platform... using builtin-java classes where applicable\n"
     ]
    },
    {
     "name": "stderr",
     "output_type": "stream",
     "text": [
      "Setting default log level to \"WARN\".\n",
      "To adjust logging level use sc.setLogLevel(newLevel). For SparkR, use setLogLevel(newLevel).\n"
     ]
    }
   ],
   "source": [
    "from pyspark.sql import SparkSession\n",
    "from pyspark.sql.types import StructType, StructField, StringType, DateType, DecimalType, IntegerType,TimestampType\n",
    "# Build SparkSession\n",
    "import getpass\n",
    "spark = SparkSession.builder.master(\"local[*]\").appName(\"ETL Pipeline\")\\\n",
    "        .config(\"spark.jars\", \"../jars/postgresql-42.5.1.jar\").getOrCreate()\n",
    "\n",
    "# Set Logging Level to WARN\n",
    "spark.sparkContext.setLogLevel(\"WARN\")"
   ]
  },
  {
   "cell_type": "code",
   "execution_count": 2,
   "id": "f62f5f03",
   "metadata": {},
   "outputs": [],
   "source": [
    "source_data_directory = \"./financial_data/\"\n",
    "economic_indicators=[\"economic_indicatorCPI\",\n",
    "                     \"economic_indicatorCONSUMER_SENTIMENT\",\n",
    "                     \"economic_indicatorDURABLES\",\n",
    "                     \"economic_indicatorINFLATION_EXPECTATION\",\n",
    "                     \"economic_indicatorNONFARM_PAYROLL\",\n",
    "                     \"economic_indicatorRETAIL_SALES\",\n",
    "                     \"economic_indicatorTREASURY_YIELD\",\n",
    "                     \"economic_indicatorUNEMPLOYMENT\"]\n",
    "# Define csv input schema\n",
    "schema = StructType([\n",
    "    StructField(\"timestamp\", DateType()),\n",
    "    StructField(\"value\", DecimalType(precision=38, scale=2)),\n",
    "])\n"
   ]
  },
  {
   "cell_type": "code",
   "execution_count": 3,
   "id": "22698c4c",
   "metadata": {},
   "outputs": [],
   "source": [
    "dictionary_df={}\n",
    "for i in economic_indicators:\n",
    "    dictionary_df[i] = spark.read.option(\"header\", \"true\").csv(source_data_directory+i+\".csv\", schema=schema)"
   ]
  },
  {
   "cell_type": "code",
   "execution_count": 4,
   "id": "3850332d",
   "metadata": {},
   "outputs": [],
   "source": [
    "for i in economic_indicators:\n",
    "    dictionary_df[i].createOrReplaceTempView(i)\n",
    "    "
   ]
  },
  {
   "cell_type": "code",
   "execution_count": 5,
   "id": "152a89d9",
   "metadata": {},
   "outputs": [],
   "source": [
    "dataDF=spark.sql(\"select economic_indicatorCPI.timestamp as date, economic_indicatorCPI.value as CPI_value, economic_indicatorCONSUMER_SENTIMENT.value as CONSUMER_SENTIMENT_value,\"+\n",
    "                 \"economic_indicatorDURABLES.value as DURABLES_value,economic_indicatorINFLATION_EXPECTATION.value as INFLATION_EXPECTATION_value,\"+\n",
    "                 \"economic_indicatorNONFARM_PAYROLL.value as NONFARM_PAYROLL_value,economic_indicatorRETAIL_SALES.value as RETAIL_SALES_value,\"+\n",
    "                 \"economic_indicatorTREASURY_YIELD.value as TREASURY_YIELD_value,economic_indicatorUNEMPLOYMENT.value as UNEMPLOYMENT_value \"\n",
    "          \"from economic_indicatorCPI LEFT OUTER JOIN economic_indicatorCONSUMER_SENTIMENT ON economic_indicatorCPI.timestamp == economic_indicatorCONSUMER_SENTIMENT.timestamp \"\n",
    "          \"LEFT OUTER JOIN economic_indicatorDURABLES ON economic_indicatorCPI.timestamp == economic_indicatorDURABLES.timestamp \"+\n",
    "          \"LEFT OUTER JOIN economic_indicatorINFLATION_EXPECTATION ON economic_indicatorCPI.timestamp == economic_indicatorINFLATION_EXPECTATION.timestamp \"+\n",
    "          \"LEFT OUTER JOIN economic_indicatorTREASURY_YIELD ON economic_indicatorCPI.timestamp == economic_indicatorTREASURY_YIELD.timestamp \"+\n",
    "          \"LEFT OUTER JOIN economic_indicatorNONFARM_PAYROLL ON economic_indicatorCPI.timestamp == economic_indicatorNONFARM_PAYROLL.timestamp \"+\n",
    "          \"LEFT OUTER JOIN economic_indicatorRETAIL_SALES ON economic_indicatorCPI.timestamp == economic_indicatorRETAIL_SALES.timestamp \"+\n",
    "          \"LEFT OUTER JOIN economic_indicatorUNEMPLOYMENT ON economic_indicatorCPI.timestamp == economic_indicatorUNEMPLOYMENT.timestamp \")"
   ]
  },
  {
   "cell_type": "code",
   "execution_count": 6,
   "id": "2dc30df3",
   "metadata": {},
   "outputs": [
    {
     "data": {
      "text/plain": [
       "1318"
      ]
     },
     "execution_count": 6,
     "metadata": {},
     "output_type": "execute_result"
    }
   ],
   "source": [
    "dataDF.count()"
   ]
  },
  {
   "cell_type": "code",
   "execution_count": 7,
   "id": "5bb73117",
   "metadata": {},
   "outputs": [
    {
     "name": "stdout",
     "output_type": "stream",
     "text": [
      "+----------+---------+------------------------+--------------+---------------------------+---------------------+------------------+--------------------+------------------+\n",
      "|      date|CPI_value|CONSUMER_SENTIMENT_value|DURABLES_value|INFLATION_EXPECTATION_value|NONFARM_PAYROLL_value|RETAIL_SALES_value|TREASURY_YIELD_value|UNEMPLOYMENT_value|\n",
      "+----------+---------+------------------------+--------------+---------------------------+---------------------+------------------+--------------------+------------------+\n",
      "|2022-10-01|   298.01|                    null|          null|                       null|            154369.00|         597492.00|                3.98|              3.70|\n",
      "|2022-09-01|   296.81|                   58.60|     290199.00|                       4.70|            153197.00|         576853.00|                3.52|              3.50|\n",
      "|2022-08-01|   296.17|                   58.20|     279323.00|                       4.80|            152674.00|         613416.00|                2.90|              3.70|\n",
      "|2022-07-01|   296.28|                   51.50|     249456.00|                       5.20|            152258.00|         600746.00|                2.90|              3.50|\n",
      "|2022-06-01|   296.31|                   50.00|     294470.00|                       5.30|            152607.00|         609933.00|                3.14|              3.60|\n",
      "|2022-05-01|   292.30|                   58.40|     263971.00|                       5.30|            151728.00|         614474.00|                2.90|              3.60|\n",
      "|2022-04-01|   289.11|                   65.20|     260366.00|                       5.40|            150957.00|         594426.00|                2.75|              3.60|\n",
      "|2022-03-01|   287.50|                   59.40|     294088.00|                       5.40|            149905.00|         597077.00|                2.13|              3.60|\n",
      "|2022-02-01|   283.72|                   62.80|     250105.00|                       4.90|            149143.00|         506400.00|                1.93|              3.80|\n",
      "|2022-01-01|   281.15|                   67.20|     242492.00|                       4.90|            147505.00|         518146.00|                1.76|              4.00|\n",
      "|2021-12-01|   278.80|                   70.60|     267477.00|                       4.80|            150352.00|         632849.00|                1.47|              3.90|\n",
      "|2021-11-01|   277.95|                   67.40|     244327.00|                       4.90|            150210.00|         579687.00|                1.56|              4.20|\n",
      "|2021-10-01|   276.59|                   71.70|     247086.00|                       4.80|            149310.00|         557737.00|                1.58|              4.60|\n",
      "|2021-09-01|   274.31|                   72.80|     260121.00|                       4.60|            147651.00|         532840.00|                1.37|              4.70|\n",
      "|2021-08-01|   273.57|                   70.30|     250971.00|                       4.60|            146947.00|         553822.00|                1.28|              5.20|\n",
      "|2021-07-01|   273.00|                   81.20|     228559.00|                       4.70|            146452.00|         554845.00|                1.32|              5.40|\n",
      "|2021-06-01|   271.70|                   85.50|     263226.00|                       4.20|            146493.00|         560679.00|                1.52|              5.90|\n",
      "|2021-05-01|   269.20|                   82.90|     235324.00|                       4.60|            145304.00|         567461.00|                1.62|              5.80|\n",
      "|2021-04-01|   267.05|                   88.30|     236534.00|                       3.40|            144358.00|         557874.00|                1.64|              6.00|\n",
      "|2021-03-01|   264.88|                   84.90|     267961.00|                       3.10|            143308.00|         565764.00|                1.61|              6.00|\n",
      "+----------+---------+------------------------+--------------+---------------------------+---------------------+------------------+--------------------+------------------+\n",
      "only showing top 20 rows\n",
      "\n"
     ]
    }
   ],
   "source": [
    "dataDF.show()"
   ]
  },
  {
   "cell_type": "code",
   "execution_count": 8,
   "id": "caed69b5",
   "metadata": {},
   "outputs": [],
   "source": [
    "from pyspark.sql.functions import udf\n",
    "def extract_month(date):\n",
    "    if date is not None:\n",
    "        return int(date.month)\n",
    "\n",
    "\n",
    "def extract_year(date):\n",
    "    if date is not None:\n",
    "        return int(date.year)\n",
    "\n",
    "\n",
    "def extract_day(date):\n",
    "    if date is not None:\n",
    "        return int(date.day)\n",
    "udf_month = udf(extract_month, IntegerType())\n",
    "udf_year = udf(extract_year, IntegerType())\n",
    "udf_day = udf(extract_day, IntegerType())"
   ]
  },
  {
   "cell_type": "code",
   "execution_count": 9,
   "id": "78da90dd",
   "metadata": {},
   "outputs": [
    {
     "name": "stderr",
     "output_type": "stream",
     "text": [
      "\r",
      "[Stage 25:>                                                         (0 + 1) / 1]\r"
     ]
    },
    {
     "name": "stdout",
     "output_type": "stream",
     "text": [
      "+----------+---------+------------------------+--------------+---------------------------+---------------------+------------------+--------------------+------------------+-----+----+---+\n",
      "|      date|CPI_value|CONSUMER_SENTIMENT_value|DURABLES_value|INFLATION_EXPECTATION_value|NONFARM_PAYROLL_value|RETAIL_SALES_value|TREASURY_YIELD_value|UNEMPLOYMENT_value|month|year|day|\n",
      "+----------+---------+------------------------+--------------+---------------------------+---------------------+------------------+--------------------+------------------+-----+----+---+\n",
      "|2022-10-01|   298.01|                    null|          null|                       null|            154369.00|         597492.00|                3.98|              3.70|   10|2022|  1|\n",
      "|2022-09-01|   296.81|                   58.60|     290199.00|                       4.70|            153197.00|         576853.00|                3.52|              3.50|    9|2022|  1|\n",
      "|2022-08-01|   296.17|                   58.20|     279323.00|                       4.80|            152674.00|         613416.00|                2.90|              3.70|    8|2022|  1|\n",
      "|2022-07-01|   296.28|                   51.50|     249456.00|                       5.20|            152258.00|         600746.00|                2.90|              3.50|    7|2022|  1|\n",
      "|2022-06-01|   296.31|                   50.00|     294470.00|                       5.30|            152607.00|         609933.00|                3.14|              3.60|    6|2022|  1|\n",
      "|2022-05-01|   292.30|                   58.40|     263971.00|                       5.30|            151728.00|         614474.00|                2.90|              3.60|    5|2022|  1|\n",
      "|2022-04-01|   289.11|                   65.20|     260366.00|                       5.40|            150957.00|         594426.00|                2.75|              3.60|    4|2022|  1|\n",
      "|2022-03-01|   287.50|                   59.40|     294088.00|                       5.40|            149905.00|         597077.00|                2.13|              3.60|    3|2022|  1|\n",
      "|2022-02-01|   283.72|                   62.80|     250105.00|                       4.90|            149143.00|         506400.00|                1.93|              3.80|    2|2022|  1|\n",
      "|2022-01-01|   281.15|                   67.20|     242492.00|                       4.90|            147505.00|         518146.00|                1.76|              4.00|    1|2022|  1|\n",
      "|2021-12-01|   278.80|                   70.60|     267477.00|                       4.80|            150352.00|         632849.00|                1.47|              3.90|   12|2021|  1|\n",
      "|2021-11-01|   277.95|                   67.40|     244327.00|                       4.90|            150210.00|         579687.00|                1.56|              4.20|   11|2021|  1|\n",
      "|2021-10-01|   276.59|                   71.70|     247086.00|                       4.80|            149310.00|         557737.00|                1.58|              4.60|   10|2021|  1|\n",
      "|2021-09-01|   274.31|                   72.80|     260121.00|                       4.60|            147651.00|         532840.00|                1.37|              4.70|    9|2021|  1|\n",
      "|2021-08-01|   273.57|                   70.30|     250971.00|                       4.60|            146947.00|         553822.00|                1.28|              5.20|    8|2021|  1|\n",
      "|2021-07-01|   273.00|                   81.20|     228559.00|                       4.70|            146452.00|         554845.00|                1.32|              5.40|    7|2021|  1|\n",
      "|2021-06-01|   271.70|                   85.50|     263226.00|                       4.20|            146493.00|         560679.00|                1.52|              5.90|    6|2021|  1|\n",
      "|2021-05-01|   269.20|                   82.90|     235324.00|                       4.60|            145304.00|         567461.00|                1.62|              5.80|    5|2021|  1|\n",
      "|2021-04-01|   267.05|                   88.30|     236534.00|                       3.40|            144358.00|         557874.00|                1.64|              6.00|    4|2021|  1|\n",
      "|2021-03-01|   264.88|                   84.90|     267961.00|                       3.10|            143308.00|         565764.00|                1.61|              6.00|    3|2021|  1|\n",
      "+----------+---------+------------------------+--------------+---------------------------+---------------------+------------------+--------------------+------------------+-----+----+---+\n",
      "only showing top 20 rows\n",
      "\n"
     ]
    },
    {
     "name": "stderr",
     "output_type": "stream",
     "text": [
      "\r",
      "                                                                                \r"
     ]
    }
   ],
   "source": [
    "day_month_year_DF = dataDF \\\n",
    "    .withColumn(\"month\", udf_month(\"date\")) \\\n",
    "    .withColumn(\"year\", udf_year(\"date\")) \\\n",
    "    .withColumn(\"day\", udf_day(\"date\"))\n",
    "day_month_year_DF.show()"
   ]
  },
  {
   "cell_type": "code",
   "execution_count": 10,
   "id": "ece2711b",
   "metadata": {},
   "outputs": [],
   "source": [
    "finalDF=day_month_year_DF.drop(\"date\")\n"
   ]
  },
  {
   "cell_type": "code",
   "execution_count": 11,
   "id": "5297dd70",
   "metadata": {},
   "outputs": [
    {
     "name": "stdout",
     "output_type": "stream",
     "text": [
      "root\n",
      " |-- CPI_value: decimal(38,2) (nullable = true)\n",
      " |-- CONSUMER_SENTIMENT_value: decimal(38,2) (nullable = true)\n",
      " |-- DURABLES_value: decimal(38,2) (nullable = true)\n",
      " |-- INFLATION_EXPECTATION_value: decimal(38,2) (nullable = true)\n",
      " |-- NONFARM_PAYROLL_value: decimal(38,2) (nullable = true)\n",
      " |-- RETAIL_SALES_value: decimal(38,2) (nullable = true)\n",
      " |-- TREASURY_YIELD_value: decimal(38,2) (nullable = true)\n",
      " |-- UNEMPLOYMENT_value: decimal(38,2) (nullable = true)\n",
      " |-- month: integer (nullable = true)\n",
      " |-- year: integer (nullable = true)\n",
      " |-- day: integer (nullable = true)\n",
      "\n"
     ]
    }
   ],
   "source": [
    "finalDF.printSchema()\n"
   ]
  },
  {
   "cell_type": "code",
   "execution_count": 26,
   "id": "320ba4c6",
   "metadata": {},
   "outputs": [],
   "source": [
    "driver = \"org.postgresql.Driver\"\n",
    "url='jdbc:postgresql://bigdata-database.ce0q5dfktsor.us-east-1.rds.amazonaws.com/postgres'  \n",
    "dbtable='public.financial'\n",
    "user='postgres'\n",
    "password='truong157359'"
   ]
  },
  {
   "cell_type": "code",
   "execution_count": 27,
   "id": "5a3ba47d",
   "metadata": {},
   "outputs": [
    {
     "name": "stderr",
     "output_type": "stream",
     "text": [
      "                                                                                \r"
     ]
    }
   ],
   "source": [
    "finalDF.write.format('jdbc').options(\n",
    "      url=url,\n",
    "      driver=driver,\n",
    "      dbtable=dbtable,\n",
    "      user=user,\n",
    "      password=password).mode('append').save() "
   ]
  },
  {
   "cell_type": "code",
   "execution_count": null,
   "id": "8b8094cc",
   "metadata": {},
   "outputs": [],
   "source": []
  },
  {
   "cell_type": "code",
   "execution_count": null,
   "id": "248ace02",
   "metadata": {},
   "outputs": [],
   "source": []
  },
  {
   "cell_type": "code",
   "execution_count": null,
   "id": "fe5f334b",
   "metadata": {},
   "outputs": [],
   "source": []
  },
  {
   "cell_type": "code",
   "execution_count": null,
   "id": "3dadcdb5",
   "metadata": {},
   "outputs": [],
   "source": []
  },
  {
   "cell_type": "code",
   "execution_count": null,
   "id": "913b1d42",
   "metadata": {},
   "outputs": [],
   "source": []
  },
  {
   "cell_type": "code",
   "execution_count": null,
   "id": "437003db",
   "metadata": {},
   "outputs": [],
   "source": []
  }
 ],
 "metadata": {
  "kernelspec": {
   "display_name": "Python 3 (ipykernel)",
   "language": "python",
   "name": "python3"
  },
  "language_info": {
   "codemirror_mode": {
    "name": "ipython",
    "version": 3
   },
   "file_extension": ".py",
   "mimetype": "text/x-python",
   "name": "python",
   "nbconvert_exporter": "python",
   "pygments_lexer": "ipython3",
   "version": "3.8.10"
  }
 },
 "nbformat": 4,
 "nbformat_minor": 5
}
